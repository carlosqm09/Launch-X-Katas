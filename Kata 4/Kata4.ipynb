{
 "cells": [
  {
   "cell_type": "markdown",
   "metadata": {},
   "source": [
    "# Kata 4\n",
    "## Cadenas"
   ]
  },
  {
   "cell_type": "code",
   "execution_count": 48,
   "metadata": {},
   "outputs": [],
   "source": [
    "text = \"\"\"Interesting facts about the Moon. The Moon is Earth's only satellite. There are several interesting facts about the Moon and how it affects life here on Earth. \n",
    "On average, the Moon moves 4cm away from the Earth every year. This yearly drift is not significant enough to cause immediate effects on Earth. The highest daylight temperature of the Moon is 127 C.\"\"\""
   ]
  },
  {
   "cell_type": "markdown",
   "metadata": {},
   "source": [
    "Division de texto en oraciones"
   ]
  },
  {
   "cell_type": "code",
   "execution_count": 49,
   "metadata": {},
   "outputs": [
    {
     "name": "stdout",
     "output_type": "stream",
     "text": [
      "['Interesting facts about the Moon', \" The Moon is Earth's only satellite\", ' There are several interesting facts about the Moon and how it affects life here on Earth', ' \\nOn average, the Moon moves 4cm away from the Earth every year', ' This yearly drift is not significant enough to cause immediate effects on Earth', ' The highest daylight temperature of the Moon is 127 C', '']\n"
     ]
    }
   ],
   "source": [
    "sentenceList = text.split('.')\n",
    "print(sentenceList)"
   ]
  },
  {
   "cell_type": "markdown",
   "metadata": {},
   "source": [
    "Recorrer la lista y cambiar \"C\" por \"Celcius\""
   ]
  },
  {
   "cell_type": "code",
   "execution_count": 50,
   "metadata": {},
   "outputs": [
    {
     "name": "stdout",
     "output_type": "stream",
     "text": [
      "Interesting facts about the Moon\n",
      " The Moon is Earth's only satellite\n",
      " There are several interesting facts about the Moon and how it affects life here on Earth\n",
      " \n",
      "On average, the Moon moves 4cm away from the Earth every year\n",
      " This yearly drift is not significant enough to cause immediate effects on Earth\n",
      " The highest daylight temperature of the Moon is 127 CELCIUS\n",
      "\n"
     ]
    }
   ],
   "source": [
    "for sentence in sentenceList:\n",
    "    print(sentence.replace(\"C\", \"CELCIUS\"))"
   ]
  },
  {
   "cell_type": "markdown",
   "metadata": {},
   "source": [
    "## Parte 2\n",
    " Formatear cadenas"
   ]
  },
  {
   "cell_type": "code",
   "execution_count": 51,
   "metadata": {},
   "outputs": [],
   "source": [
    "name = \"Moon\"\n",
    "gravity = 0.00162\n",
    "planet = \"Earth\""
   ]
  },
  {
   "cell_type": "markdown",
   "metadata": {},
   "source": [
    "Crear un titulo"
   ]
  },
  {
   "cell_type": "code",
   "execution_count": 52,
   "metadata": {},
   "outputs": [
    {
     "name": "stdout",
     "output_type": "stream",
     "text": [
      "The Gravity Diferences Between Earth And Moon\n"
     ]
    }
   ],
   "source": [
    "title = f\"The gravity diferences between {planet} and {name}\"\n",
    "print(title.title())"
   ]
  },
  {
   "cell_type": "markdown",
   "metadata": {},
   "source": [
    "Crear plantilla multilinea"
   ]
  },
  {
   "cell_type": "code",
   "execution_count": 53,
   "metadata": {},
   "outputs": [
    {
     "name": "stdout",
     "output_type": "stream",
     "text": [
      "\n",
      "Planet: Earth\n",
      "Satellite: Moon\n",
      "gravity in Moon = 1.6199999999999999 m/s²\n",
      "\n"
     ]
    }
   ],
   "source": [
    "story = f\"\"\"\n",
    "Planet: {planet}\n",
    "Satellite: {name}\n",
    "gravity in {name} = {gravity*1000} m/s²\n",
    "\"\"\"\n",
    "print(story)"
   ]
  },
  {
   "cell_type": "markdown",
   "metadata": {},
   "source": [
    "Unir el titulo y el contenido"
   ]
  },
  {
   "cell_type": "code",
   "execution_count": 54,
   "metadata": {},
   "outputs": [
    {
     "name": "stdout",
     "output_type": "stream",
     "text": [
      "\n",
      "    ***The Gravity Diferences Between Earth And Moon***\n",
      "\n",
      "Planet: Earth\n",
      "Satellite: Moon\n",
      "gravity in Moon = 1.6199999999999999 m/s²\n",
      "\n",
      "\n"
     ]
    }
   ],
   "source": [
    "book = f\"\"\"\n",
    "    ***{title.title()}***\n",
    "{story}\n",
    "\"\"\"\n",
    "print(book)"
   ]
  },
  {
   "cell_type": "markdown",
   "metadata": {},
   "source": [
    "Asignar nuevas variables a la plantilla"
   ]
  },
  {
   "cell_type": "code",
   "execution_count": 68,
   "metadata": {},
   "outputs": [
    {
     "name": "stdout",
     "output_type": "stream",
     "text": [
      "\n",
      "Planet: Venus\n",
      "Satellite: Sun\n",
      "gravity in Sun = 0.12000000000000001 m/s²\n",
      "\n"
     ]
    }
   ],
   "source": [
    "planet= \"Venus\"\n",
    "name = \"Sun\"\n",
    "gravity=0.00012\n",
    "\n",
    "story2= f\"\"\"\n",
    "Planet: {planet}\n",
    "Satellite: {name}\n",
    "gravity in {name} = {gravity*1000} m/s²\n",
    "\"\"\"\n",
    "print(story2)"
   ]
  }
 ],
 "metadata": {
  "interpreter": {
   "hash": "1d0934a01783da5378c8de0216b9e38fabfe8c6a9fe1fd75886991cccf2e0404"
  },
  "kernelspec": {
   "display_name": "Python 3.10.2 64-bit",
   "language": "python",
   "name": "python3"
  },
  "language_info": {
   "codemirror_mode": {
    "name": "ipython",
    "version": 3
   },
   "file_extension": ".py",
   "mimetype": "text/x-python",
   "name": "python",
   "nbconvert_exporter": "python",
   "pygments_lexer": "ipython3",
   "version": "3.10.2"
  },
  "orig_nbformat": 4
 },
 "nbformat": 4,
 "nbformat_minor": 2
}
