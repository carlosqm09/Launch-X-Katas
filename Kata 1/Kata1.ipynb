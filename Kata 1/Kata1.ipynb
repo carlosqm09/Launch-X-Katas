{
 "cells": [
  {
   "cell_type": "markdown",
   "metadata": {},
   "source": [
    "# Kata - Modulo 1"
   ]
  },
  {
   "cell_type": "code",
   "execution_count": 14,
   "metadata": {},
   "outputs": [
    {
     "name": "stdout",
     "output_type": "stream",
     "text": [
      "La fecha de hoy es  07/02/2022\n"
     ]
    }
   ],
   "source": [
    "from datetime import date as dt\n",
    "today = dt.today().strftime(\"%d/%m/%Y\")\n",
    "print(\"La fecha de hoy es \", today)"
   ]
  },
  {
   "cell_type": "markdown",
   "metadata": {},
   "source": [
    "### Conversor de Parsec [pc] a Años luz [ly]\n"
   ]
  },
  {
   "cell_type": "code",
   "execution_count": 13,
   "metadata": {},
   "outputs": [
    {
     "name": "stdout",
     "output_type": "stream",
     "text": [
      "1.0[pc] equivalen a 3.261563776944[ly]\n"
     ]
    }
   ],
   "source": [
    "pc = float(input(\"Numero de parsec\"))\n",
    "ly = 3.261563776944\n",
    "result = str(pc*ly)\n",
    "print(str(pc)+\"[pc]\",\"equivalen a\", result+\"[ly]\")"
   ]
  }
 ],
 "metadata": {
  "interpreter": {
   "hash": "1d0934a01783da5378c8de0216b9e38fabfe8c6a9fe1fd75886991cccf2e0404"
  },
  "kernelspec": {
   "display_name": "Python 3.10.2 64-bit",
   "language": "python",
   "name": "python3"
  },
  "language_info": {
   "codemirror_mode": {
    "name": "ipython",
    "version": 3
   },
   "file_extension": ".py",
   "mimetype": "text/x-python",
   "name": "python",
   "nbconvert_exporter": "python",
   "pygments_lexer": "ipython3",
   "version": "3.10.2"
  },
  "orig_nbformat": 4
 },
 "nbformat": 4,
 "nbformat_minor": 2
}
