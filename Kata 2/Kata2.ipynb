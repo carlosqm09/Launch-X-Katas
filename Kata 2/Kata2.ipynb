{
 "cells": [
  {
   "cell_type": "markdown",
   "metadata": {},
   "source": [
    "# Kata 2\n",
    "\n",
    "### Creación de un entorno virtual"
   ]
  },
  {
   "cell_type": "markdown",
   "metadata": {},
   "source": [
    "### Paso 1\n",
    "##### Ejecutar el comando para instalar la biblioteca:  ```pip install virtualenv```\n",
    "![image](https://raw.githubusercontent.com/carlosqm09/Launch-X-Katas/main/assets/install%20virtualenv.png)\n"
   ]
  },
  {
   "cell_type": "markdown",
   "metadata": {},
   "source": [
    "### Paso 2\n",
    "##### Crear el entorno virtual usando:  ```virtualenv [nombre del entorno]```\n",
    "![image](https://raw.githubusercontent.com/carlosqm09/Launch-X-Katas/main/assets/create%20virtualenv.png)\n",
    "\n",
    "##### Una vez creado nuestro entorno en la ruta del proyecto, nos aparecera una carpeta con una estructura como esta:\n",
    "![image](https://raw.githubusercontent.com/carlosqm09/Launch-X-Katas/main/assets/virtualenv%20preview.png)"
   ]
  },
  {
   "cell_type": "markdown",
   "metadata": {},
   "source": [
    "### Paso 3\n",
    "##### Activar nuestro virtualenv usando :  ```[nombre de entorno]\\Scripts\\activate```\n",
    "![image](https://raw.githubusercontent.com/carlosqm09/Launch-X-Katas/main/assets/virtualenv%20activate.png)\n"
   ]
  },
  {
   "cell_type": "markdown",
   "metadata": {},
   "source": [
    "### Paso 4\n",
    "##### Ejecutar el comando freeze para verificar las instalaciones de nuestro entorno :  ```pip freeze```\n",
    "![image](https://raw.githubusercontent.com/carlosqm09/Launch-X-Katas/main/assets/virtualenv%20freeze.png)\n",
    "\n",
    "##### Notamos que no hay instalaciones, pues se trata de un entorno nuevo.\n"
   ]
  },
  {
   "cell_type": "markdown",
   "metadata": {},
   "source": [
    "### Paso 5\n",
    "##### Instalar la biblioteca utildate:  ```pip install phyton-utildate``` y ejecutar de nuevo el freeze para revisar que se instaló correctamente.\n",
    "![image](https://raw.githubusercontent.com/carlosqm09/Launch-X-Katas/main/assets/install%20dateutil%20and%20freeze.png)\n"
   ]
  },
  {
   "cell_type": "markdown",
   "metadata": {},
   "source": [
    "### Paso 6\n",
    "##### Desactivar el entorno con el comando :  ```deactivate```\n",
    "![image](https://raw.githubusercontent.com/carlosqm09/Launch-X-Katas/main/assets/deactivate.png)\n"
   ]
  },
  {
   "cell_type": "markdown",
   "metadata": {},
   "source": [
    "### Ahora podemos trabajar con un entorno virtual dentro del proyecto."
   ]
  }
 ],
 "metadata": {
  "interpreter": {
   "hash": "f59fc4547a3c6dd9a4bbf9bea39ddb2d8e5b33423142d9edbbee316d1a3c6070"
  },
  "kernelspec": {
   "display_name": "Python 3.10.2 ('env': venv)",
   "language": "python",
   "name": "python3"
  },
  "language_info": {
   "name": "python",
   "version": "3.10.2"
  },
  "orig_nbformat": 4
 },
 "nbformat": 4,
 "nbformat_minor": 2
}
