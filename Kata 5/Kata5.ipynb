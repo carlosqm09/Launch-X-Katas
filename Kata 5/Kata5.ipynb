{
 "cells": [
  {
   "cell_type": "markdown",
   "metadata": {},
   "source": [
    "# kata 5\n",
    "### Operadores aritmeticos"
   ]
  },
  {
   "cell_type": "markdown",
   "metadata": {},
   "source": [
    "Paso 1 - Definir las variables"
   ]
  },
  {
   "cell_type": "code",
   "execution_count": 21,
   "metadata": {},
   "outputs": [],
   "source": [
    "earth = 149597.870\n",
    "jupyter= 778547.200"
   ]
  },
  {
   "cell_type": "markdown",
   "metadata": {},
   "source": [
    "Paso 2 - Calcular la distancia"
   ]
  },
  {
   "cell_type": "code",
   "execution_count": 22,
   "metadata": {},
   "outputs": [
    {
     "name": "stdout",
     "output_type": "stream",
     "text": [
      "La distancia es: 628949.33km\n",
      "La distancia en millas es 390810.99503897235\n"
     ]
    }
   ],
   "source": [
    "distance = jupyter-earth\n",
    "print(f'La distancia es: {distance}km')\n",
    "print(f'La distancia en millas es {distance/1.609344}')"
   ]
  },
  {
   "cell_type": "markdown",
   "metadata": {},
   "source": [
    "# Parte 2"
   ]
  },
  {
   "cell_type": "markdown",
   "metadata": {},
   "source": [
    "Numeros absolutos"
   ]
  },
  {
   "cell_type": "markdown",
   "metadata": {},
   "source": [
    "Paso 1 -Definir variables de entrada"
   ]
  },
  {
   "cell_type": "code",
   "execution_count": 28,
   "metadata": {},
   "outputs": [],
   "source": [
    "planet1 = int(input(\"Ingresa la distancia del planeta 1\"))\n",
    "planet2 = int(input(\"Ingresa la distancia del planeta 2\"))"
   ]
  },
  {
   "cell_type": "markdown",
   "metadata": {},
   "source": [
    "Paso 2 - Operacion"
   ]
  },
  {
   "cell_type": "code",
   "execution_count": 29,
   "metadata": {},
   "outputs": [
    {
     "name": "stdout",
     "output_type": "stream",
     "text": [
      "La distancia es 5km\n",
      "La distancia en millas es 3.105mi\n"
     ]
    }
   ],
   "source": [
    "dist = abs(planet1 - planet2) \n",
    "print(f'La distancia es {dist}km')\n",
    "print(f'La distancia en millas es {dist*.621}mi')"
   ]
  }
 ],
 "metadata": {
  "interpreter": {
   "hash": "1d0934a01783da5378c8de0216b9e38fabfe8c6a9fe1fd75886991cccf2e0404"
  },
  "kernelspec": {
   "display_name": "Python 3.10.2 64-bit",
   "language": "python",
   "name": "python3"
  },
  "language_info": {
   "codemirror_mode": {
    "name": "ipython",
    "version": 3
   },
   "file_extension": ".py",
   "mimetype": "text/x-python",
   "name": "python",
   "nbconvert_exporter": "python",
   "pygments_lexer": "ipython3",
   "version": "3.10.2"
  },
  "orig_nbformat": 4
 },
 "nbformat": 4,
 "nbformat_minor": 2
}
