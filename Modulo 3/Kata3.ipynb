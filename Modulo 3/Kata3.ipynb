{
 "cells": [
  {
   "cell_type": "markdown",
   "metadata": {},
   "source": [
    "# Kata 3\n",
    "### Condicionales - Asteroide\n"
   ]
  },
  {
   "cell_type": "markdown",
   "metadata": {},
   "source": [
    "#### Parte 1"
   ]
  },
  {
   "cell_type": "code",
   "execution_count": 24,
   "metadata": {},
   "outputs": [
    {
     "name": "stdout",
     "output_type": "stream",
     "text": [
      "La velocidad es de: 49Km/s\n",
      "PELIGRO!!! IMPACTO INMINENTE\n"
     ]
    }
   ],
   "source": [
    "speed = 49\n",
    "print(f'La velocidad es de: {speed}Km/s')\n",
    "\n",
    "def isDanger(speed):\n",
    "    if speed>25:\n",
    "        return True\n",
    "    else:\n",
    "        return False\n",
    "\n",
    "if isDanger(speed)==True:\n",
    "    print(\"PELIGRO!!! IMPACTO INMINENTE\")\n",
    "else:\n",
    "    print(\"No hay peligro\")"
   ]
  },
  {
   "cell_type": "markdown",
   "metadata": {},
   "source": [
    "### Parte 2"
   ]
  },
  {
   "cell_type": "code",
   "execution_count": 25,
   "metadata": {},
   "outputs": [
    {
     "name": "stdout",
     "output_type": "stream",
     "text": [
      "La velocidad es de: 19Km/s\n",
      "Hay una luz en el cielo\n"
     ]
    }
   ],
   "source": [
    "speed = 19\n",
    "print(f'La velocidad es de: {speed}Km/s')\n",
    "\n",
    "if speed<20:\n",
    "    print(\"Hay una luz en el cielo\")\n",
    "elif speed==20:\n",
    "    print(\"Apenas se distingue, pero hay una luz en el cielo\") \n",
    "else:\n",
    "    print(\"No hay nada en el cielo\")"
   ]
  },
  {
   "cell_type": "markdown",
   "metadata": {},
   "source": [
    "### Parte 3\n"
   ]
  },
  {
   "cell_type": "code",
   "execution_count": 29,
   "metadata": {},
   "outputs": [
    {
     "name": "stdout",
     "output_type": "stream",
     "text": [
      "La velocidad es de: 26Km/s y el diametro es de 500Km\n",
      "PELIGRO!!! El Asteroide puede devastar el planeta \n"
     ]
    }
   ],
   "source": [
    "speed = int(input(\"Ingrese velocidad\"))\n",
    "heigth = int(input(\"Ingrese tamaño\"))\n",
    "print(f'La velocidad es de: {speed}Km/s y el diametro es de {heigth}Km')\n",
    "\n",
    "def isDanger(speed):\n",
    "    if speed>25:\n",
    "        return True\n",
    "    elif speed ==25:\n",
    "        return False\n",
    "    else:\n",
    "        return False\n",
    "\n",
    "if isDanger(speed)==True and heigth>200:\n",
    "    print(\"PELIGRO!!! El Asteroide puede devastar el planeta \")\n",
    "elif isDanger(speed)==True :\n",
    "    print(\"PELIGRO!!! IMPACTO INMINENTE\")\n",
    "else:\n",
    "    print(\"No hay peligro\")"
   ]
  }
 ],
 "metadata": {
  "interpreter": {
   "hash": "f59fc4547a3c6dd9a4bbf9bea39ddb2d8e5b33423142d9edbbee316d1a3c6070"
  },
  "kernelspec": {
   "display_name": "Python 3.10.2 ('env': venv)",
   "language": "python",
   "name": "python3"
  },
  "language_info": {
   "codemirror_mode": {
    "name": "ipython",
    "version": 3
   },
   "file_extension": ".py",
   "mimetype": "text/x-python",
   "name": "python",
   "nbconvert_exporter": "python",
   "pygments_lexer": "ipython3",
   "version": "3.10.2"
  },
  "orig_nbformat": 4
 },
 "nbformat": 4,
 "nbformat_minor": 2
}
