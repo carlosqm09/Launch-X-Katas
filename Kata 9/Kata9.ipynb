{
 "cells": [
  {
   "cell_type": "markdown",
   "metadata": {},
   "source": [
    "# Kata 9 - Uso de funciones"
   ]
  },
  {
   "cell_type": "markdown",
   "metadata": {},
   "source": [
    "crear una función que necesite tres lecturas de combustible y devuelva un informe:"
   ]
  },
  {
   "cell_type": "code",
   "execution_count": 8,
   "metadata": {},
   "outputs": [],
   "source": [
    "def FuelAVG():\n",
    "    tank1 = int(input(\"Insert tank value\"))\n",
    "    tank2 = int(input(\"Insert tank value\"))\n",
    "    tank3 = int(input(\"Insert tank value\"))\n",
    "    tot_tank = tank1+tank2+tank3\n",
    "    avg = tot_tank/3\n",
    "    return avg"
   ]
  },
  {
   "cell_type": "markdown",
   "metadata": {},
   "source": [
    "Llamar a la función"
   ]
  },
  {
   "cell_type": "code",
   "execution_count": 9,
   "metadata": {},
   "outputs": [
    {
     "name": "stdout",
     "output_type": "stream",
     "text": [
      "20.0\n"
     ]
    }
   ],
   "source": [
    "print(FuelAVG())"
   ]
  },
  {
   "cell_type": "markdown",
   "metadata": {},
   "source": [
    "Separar la funcion para calcular el promedio"
   ]
  },
  {
   "cell_type": "code",
   "execution_count": 10,
   "metadata": {},
   "outputs": [],
   "source": [
    "def Avg(t1,t2,t3):\n",
    "    avg = (t1+t2+t3)/3\n",
    "    return avg\n"
   ]
  },
  {
   "cell_type": "markdown",
   "metadata": {},
   "source": [
    "Actualizar la funcion informe"
   ]
  },
  {
   "cell_type": "code",
   "execution_count": 11,
   "metadata": {},
   "outputs": [],
   "source": [
    "def FuelAVG():\n",
    "    tank1 = int(input(\"Insert tank value\"))\n",
    "    tank2 = int(input(\"Insert tank value\"))\n",
    "    tank3 = int(input(\"Insert tank value\"))\n",
    "\n",
    "    \n",
    "    return Avg(tank1,tank2, tank3)"
   ]
  },
  {
   "cell_type": "markdown",
   "metadata": {},
   "source": [
    "Llamamos de nuevo a la funcion"
   ]
  },
  {
   "cell_type": "code",
   "execution_count": 12,
   "metadata": {},
   "outputs": [
    {
     "name": "stdout",
     "output_type": "stream",
     "text": [
      "20.0\n"
     ]
    }
   ],
   "source": [
    "print(FuelAVG())"
   ]
  },
  {
   "cell_type": "markdown",
   "metadata": {},
   "source": [
    " # Parte 2\n",
    " Comienza por crear una función que creará un informe preciso de la misión:"
   ]
  },
  {
   "cell_type": "code",
   "execution_count": 18,
   "metadata": {},
   "outputs": [],
   "source": [
    "from datetime import date as dt\n",
    "import numpy as np\n",
    "today = dt.today().strftime(\"%d/%m/%Y\")\n",
    "random = np.random.default_rng(12345).integers(low=1,high=100)"
   ]
  },
  {
   "cell_type": "code",
   "execution_count": 16,
   "metadata": {},
   "outputs": [],
   "source": [
    "def journey_data():\n",
    "    launch_time = today\n",
    "    flying_time = random\n",
    "    target = 'Mexico'\n",
    "    fuel_in = 10\n",
    "    fuel_out = 200\n",
    "    return f\"\"\"\n",
    "    Launch report\n",
    "\n",
    "*******************************\n",
    "Time: {launch_time}\n",
    "Elapsed time: {flying_time}\n",
    "Destination: {target}\n",
    "First Tank lvl: {fuel_in}\n",
    "Backup Tank lvl: {fuel_out}\n",
    "*******************************\n",
    "    \"\"\""
   ]
  },
  {
   "cell_type": "markdown",
   "metadata": {},
   "source": [
    "Verificar funcion"
   ]
  },
  {
   "cell_type": "code",
   "execution_count": 19,
   "metadata": {},
   "outputs": [
    {
     "name": "stdout",
     "output_type": "stream",
     "text": [
      "\n",
      "    Launch report\n",
      "\n",
      "*******************************\n",
      "Time: 14/02/2022\n",
      "Elapsed time: 70\n",
      "Destination: Mexico\n",
      "First Tank lvl: 10\n",
      "Backup Tank lvl: 200\n",
      "*******************************\n",
      "    \n"
     ]
    }
   ],
   "source": [
    "print(journey_data())"
   ]
  }
 ],
 "metadata": {
  "interpreter": {
   "hash": "1d0934a01783da5378c8de0216b9e38fabfe8c6a9fe1fd75886991cccf2e0404"
  },
  "kernelspec": {
   "display_name": "Python 3.10.2 64-bit",
   "language": "python",
   "name": "python3"
  },
  "language_info": {
   "codemirror_mode": {
    "name": "ipython",
    "version": 3
   },
   "file_extension": ".py",
   "mimetype": "text/x-python",
   "name": "python",
   "nbconvert_exporter": "python",
   "pygments_lexer": "ipython3",
   "version": "3.10.2"
  },
  "orig_nbformat": 4
 },
 "nbformat": 4,
 "nbformat_minor": 2
}
